{
 "cells": [
  {
   "cell_type": "code",
   "execution_count": null,
   "id": "a9218a55",
   "metadata": {},
   "outputs": [],
   "source": [
    "import pandas as pd"
   ]
  },
  {
   "cell_type": "code",
   "execution_count": null,
   "id": "753a4b91",
   "metadata": {},
   "outputs": [],
   "source": [
    "teams=pd.read_csv(\"teams.csv\")\n"
   ]
  },
  {
   "cell_type": "code",
   "execution_count": null,
   "id": "a8be7f43",
   "metadata": {},
   "outputs": [],
   "source": [
    "teams.head()"
   ]
  },
  {
   "cell_type": "code",
   "execution_count": null,
   "id": "35381936",
   "metadata": {},
   "outputs": [],
   "source": [
    "teams=teams[[\"team\",\"country\",\"year\",\"athletes\",\"age\",\"prev_medals\",\"medals\"]]\n",
    "teams"
   ]
  },
  {
   "cell_type": "code",
   "execution_count": null,
   "id": "b30d57ba",
   "metadata": {},
   "outputs": [],
   "source": [
    "teams.corr(numeric_only=True)[\"medals\"]"
   ]
  },
  {
   "cell_type": "code",
   "execution_count": null,
   "id": "5728b241",
   "metadata": {},
   "outputs": [],
   "source": [
    "import seaborn as sns"
   ]
  },
  {
   "cell_type": "code",
   "execution_count": null,
   "id": "9922378b",
   "metadata": {},
   "outputs": [],
   "source": [
    "sns.lmplot(x=\"athletes\",y=\"medals\",data=teams,fit_reg=True,ci=None)"
   ]
  },
  {
   "cell_type": "code",
   "execution_count": null,
   "id": "df0c5863",
   "metadata": {},
   "outputs": [],
   "source": [
    "sns.lmplot(x=\"prev_medals\",y=\"medals\",data=teams,fit_reg=True,ci=95)#ci=confidence interval"
   ]
  },
  {
   "cell_type": "code",
   "execution_count": null,
   "id": "c4ac52a8",
   "metadata": {},
   "outputs": [],
   "source": [
    "sns.lmplot(x=\"age\",y=\"medals\",data=teams,fit_reg=True,ci=None)"
   ]
  },
  {
   "cell_type": "code",
   "execution_count": null,
   "id": "bf39d5f4",
   "metadata": {},
   "outputs": [],
   "source": [
    "teams.plot.hist(y=\"medals\")"
   ]
  },
  {
   "cell_type": "code",
   "execution_count": null,
   "id": "b037c977",
   "metadata": {},
   "outputs": [],
   "source": [
    "filtered=teams[(teams[\"age\"]>=18) & (teams[\"age\"]<=27)] "
   ]
  },
  {
   "cell_type": "code",
   "execution_count": null,
   "id": "610936d1",
   "metadata": {},
   "outputs": [],
   "source": [
    "import matplotlib.pyplot as plt\n",
    "plt.figure(figsize=(8,5))\n",
    "plt.scatter(filtered[\"age\"],filtered[\"medals\"],alpha=0.6)\n",
    "plt.xlabel(\"Age\")\n",
    "plt.ylabel(\"Medals\")\n",
    "plt.title(\"medals vs age(18-27)\")\n",
    "plt.show()"
   ]
  },
  {
   "cell_type": "code",
   "execution_count": null,
   "id": "71b1ce58",
   "metadata": {},
   "outputs": [],
   "source": [
    "sns.scatterplot(x=\"age\",y=\"medals\",data=filtered)\n",
    "plt.title(\"medals vs age(18-25)\")\n",
    "plt.show()"
   ]
  },
  {
   "cell_type": "code",
   "execution_count": null,
   "id": "4d9854e6",
   "metadata": {},
   "outputs": [],
   "source": [
    "sns.lineplot(x=\"age\",y=\"medals\",data=filtered,ci=None)\n",
    "plt.title(\"medals vs age(18-25)\")\n",
    "plt.show()"
   ]
  },
  {
   "cell_type": "code",
   "execution_count": null,
   "id": "2fc8b157",
   "metadata": {},
   "outputs": [],
   "source": [
    "bins = [18, 20, 22, 24, 26,28,30]  # Bin edges\n",
    "labels = [\"18-19\", \"20-21\", \"22-23\", \"24-25\",\"26-27\",\"28-29\"]\n",
    "\n",
    "teams[\"age_bin\"] = pd.cut(teams[\"age\"], bins=bins, labels=labels)\n",
    "\n",
    "avg_medals = teams.groupby(\"age_bin\")[\"medals\"].mean().reset_index()\n",
    "\n",
    "sns.barplot(x=\"age_bin\", y=\"medals\", data=avg_medals)\n",
    "plt.title(\"Average Medals by Age Group\")\n",
    "plt.xlabel(\"age\")\n",
    "plt.ylabel(\"medals\")\n",
    "plt.show()\n"
   ]
  },
  {
   "cell_type": "code",
   "execution_count": null,
   "id": "f2890151",
   "metadata": {},
   "outputs": [],
   "source": [
    "teams=teams.drop(\"age_bin\",axis=1)\n",
    "teams[teams.isnull().any(axis=1)]"
   ]
  },
  {
   "cell_type": "code",
   "execution_count": null,
   "id": "982bcf98",
   "metadata": {},
   "outputs": [],
   "source": [
    "teams=teams.dropna()\n",
    "teams"
   ]
  },
  {
   "cell_type": "code",
   "execution_count": null,
   "id": "f0e3bff3",
   "metadata": {},
   "outputs": [],
   "source": [
    "train=teams[teams[\"year\"]<2012].copy()\n",
    "test=teams[teams[\"year\"]>=2012].copy()\n"
   ]
  },
  {
   "cell_type": "code",
   "execution_count": null,
   "id": "1abed22d",
   "metadata": {},
   "outputs": [],
   "source": [
    "train.shape"
   ]
  },
  {
   "cell_type": "code",
   "execution_count": null,
   "id": "4303e5bb",
   "metadata": {},
   "outputs": [],
   "source": [
    "test.shape"
   ]
  },
  {
   "cell_type": "code",
   "execution_count": null,
   "id": "2abb2b6c",
   "metadata": {},
   "outputs": [],
   "source": [
    "from sklearn.linear_model import LinearRegression\n",
    "reg=LinearRegression()\n"
   ]
  },
  {
   "cell_type": "code",
   "execution_count": null,
   "id": "a3ae4e16",
   "metadata": {},
   "outputs": [],
   "source": [
    "predictors=[\"athletes\",\"prev_medals\"]\n",
    "target=\"medals\""
   ]
  },
  {
   "cell_type": "code",
   "execution_count": null,
   "id": "5af6596b",
   "metadata": {},
   "outputs": [],
   "source": [
    "reg.fit(train[predictors],train[\"medals\"])"
   ]
  },
  {
   "cell_type": "code",
   "execution_count": null,
   "id": "e9ee6a36",
   "metadata": {},
   "outputs": [],
   "source": [
    "predictions=reg.predict(test[predictors])\n"
   ]
  },
  {
   "cell_type": "code",
   "execution_count": null,
   "id": "ca10747d",
   "metadata": {},
   "outputs": [],
   "source": [
    "test[\"predictions\"]=predictions\n",
    "test"
   ]
  },
  {
   "cell_type": "code",
   "execution_count": null,
   "id": "f0cd2636",
   "metadata": {},
   "outputs": [],
   "source": [
    "test.loc[test[\"predictions\"]<0,\"predictions\"]=0#convert all negative values to 0\n",
    "test[\"predictions\"]=test[\"predictions\"].round()\n",
    "test"
   ]
  },
  {
   "cell_type": "code",
   "execution_count": null,
   "id": "9949db52",
   "metadata": {},
   "outputs": [],
   "source": [
    "from sklearn.metrics import mean_absolute_error\n",
    "error=mean_absolute_error(test[\"medals\"],test[\"predictions\"])\n"
   ]
  },
  {
   "cell_type": "code",
   "execution_count": null,
   "id": "1a5670b5",
   "metadata": {},
   "outputs": [],
   "source": [
    "error"
   ]
  },
  {
   "cell_type": "code",
   "execution_count": null,
   "id": "41640ab7",
   "metadata": {},
   "outputs": [],
   "source": [
    "teams.describe()[\"medals\"]#error should be lesser than std"
   ]
  },
  {
   "cell_type": "code",
   "execution_count": null,
   "id": "aa2bb960",
   "metadata": {},
   "outputs": [],
   "source": [
    "test[test[\"team\"]==\"USA\"]"
   ]
  },
  {
   "cell_type": "code",
   "execution_count": null,
   "id": "c63fce34",
   "metadata": {},
   "outputs": [],
   "source": [
    "test[test[\"team\"]==\"IND\"]"
   ]
  },
  {
   "cell_type": "code",
   "execution_count": null,
   "id": "6153fa05",
   "metadata": {},
   "outputs": [],
   "source": [
    "errors=(test[\"medals\"]-test[\"predictions\"]).abs()"
   ]
  },
  {
   "cell_type": "code",
   "execution_count": null,
   "id": "95c60e7c",
   "metadata": {},
   "outputs": [],
   "source": [
    "errors"
   ]
  },
  {
   "cell_type": "code",
   "execution_count": null,
   "id": "ef139ad9",
   "metadata": {},
   "outputs": [],
   "source": [
    "error_by_team=errors.groupby(test[\"team\"]).mean()\n",
    "error_by_team"
   ]
  },
  {
   "cell_type": "code",
   "execution_count": null,
   "id": "d597fcf2",
   "metadata": {},
   "outputs": [],
   "source": [
    "medals_by_team=test[\"medals\"].groupby(test[\"team\"]).mean()"
   ]
  },
  {
   "cell_type": "code",
   "execution_count": null,
   "id": "32793f5c",
   "metadata": {},
   "outputs": [],
   "source": [
    "error_ratio=error_by_team/medals_by_team\n",
    "error_ratio"
   ]
  },
  {
   "cell_type": "code",
   "execution_count": null,
   "id": "024a3104",
   "metadata": {},
   "outputs": [],
   "source": [
    "error_ratio[~pd.isnull(error_ratio)]#remove nan values(0/0)"
   ]
  },
  {
   "cell_type": "code",
   "execution_count": null,
   "id": "96aba5e2",
   "metadata": {},
   "outputs": [],
   "source": [
    "import numpy as np\n",
    "error_ratio=error_ratio[np.isfinite(error_ratio)]#remove inf values\n",
    "error_ratio"
   ]
  },
  {
   "cell_type": "code",
   "execution_count": null,
   "id": "750c9fc5",
   "metadata": {},
   "outputs": [],
   "source": [
    "error_ratio.plot.hist()"
   ]
  },
  {
   "cell_type": "code",
   "execution_count": null,
   "id": "2878e788",
   "metadata": {},
   "outputs": [],
   "source": [
    "error_ratio.sort_values()\n"
   ]
  }
 ],
 "metadata": {
  "kernelspec": {
   "display_name": "Python 3",
   "language": "python",
   "name": "python3"
  },
  "language_info": {
   "codemirror_mode": {
    "name": "ipython",
    "version": 3
   },
   "file_extension": ".py",
   "mimetype": "text/x-python",
   "name": "python",
   "nbconvert_exporter": "python",
   "pygments_lexer": "ipython3",
   "version": "3.13.0"
  }
 },
 "nbformat": 4,
 "nbformat_minor": 5
}
